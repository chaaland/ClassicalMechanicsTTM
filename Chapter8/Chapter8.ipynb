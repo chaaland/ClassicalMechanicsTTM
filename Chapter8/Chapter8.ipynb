{
 "cells": [
  {
   "cell_type": "code",
   "execution_count": 1,
   "metadata": {},
   "outputs": [],
   "source": [
    "using PyPlot;"
   ]
  },
  {
   "cell_type": "markdown",
   "metadata": {},
   "source": [
    "# Exercise 1\n",
    "Start with the Lagrangian $\\frac{1}{2}m \\dot{x}^2 - \\frac{1}{2}kx^2$ and show that if you make the change in variables $q=(km)^{1/4}x$, the Lagrangian has the form of $L=\\frac{1}{2\\omega}\\dot{q}^2 - \\frac{1}{2}\\omega q^2$"
   ]
  },
  {
   "cell_type": "markdown",
   "metadata": {},
   "source": [
    "## Solution\n",
    "\n",
    "Solving for $x$ gives $x = (km)^{-1/4}q$ and plugging into the Lagrangian of the harmonic oscillator gives\n",
    "$$\n",
    "\\begin{align*}\n",
    "L &= \\frac{1}{2}m \\left((km)^{-1/4}\\dot{q}\\right)^2 - \\frac{1}{2}k\\left((km)^{-1/4}q\\right)^2\\\\\n",
    " &= \\frac{1}{2}m (km)^{-1/2}\\dot{q}^2 - \\frac{1}{2}k(km)^{-1/2}q^2\\\\\n",
    "&= \\frac{1}{2}\\sqrt{\\frac{m}{k}}\\dot{q}^2 - \\frac{1}{2}\\sqrt{\\frac{k}{m}}q^2\\\\\n",
    "\\end{align*}\n",
    "$$"
   ]
  },
  {
   "cell_type": "markdown",
   "metadata": {},
   "source": [
    "Letting $\\omega = (k/m)^{1/2}$ we have the Lagrangian in $q$ coordinates as $L=\\frac{1}{2\\omega}\\dot{q}^2-\\frac{\\omega}{2}q^2$"
   ]
  },
  {
   "cell_type": "markdown",
   "metadata": {},
   "source": [
    "# Exercise 2\n",
    "Starting with the Lagrangian in Exercise 1, calculate the Hamiltonian in terms of $p$ and $q$."
   ]
  },
  {
   "cell_type": "markdown",
   "metadata": {},
   "source": [
    "## Solution\n",
    "\n",
    "The conjugate momentum is $p = \\frac{\\partial L}{\\partial \\dot{q}} = \\dot{q}/\\omega$. The Hamiltonian is given by \n",
    "$$\n",
    "\\begin{align*}\n",
    "H &= p\\dot{q} - L\\\\\n",
    "&= \\left(p - \\frac{\\dot{q}}{2\\omega}\\right)\\dot{q} + \\frac{\\omega}{2}q^2\\\\\n",
    "&= \\left(p - \\frac{p\\omega}{2\\omega}\\right)p\\omega + \\frac{\\omega}{2}q^2\\\\\n",
    "&= (p/2)p\\omega + \\frac{\\omega}{2}q^2\\\\\n",
    "&= \\frac{\\omega}{2}(p^2 + q^2)\\\\\n",
    "\\end{align*}\n",
    "$$"
   ]
  },
  {
   "cell_type": "code",
   "execution_count": null,
   "metadata": {},
   "outputs": [],
   "source": []
  }
 ],
 "metadata": {
  "kernelspec": {
   "display_name": "Julia 1.3.1",
   "language": "julia",
   "name": "julia-1.3"
  },
  "language_info": {
   "file_extension": ".jl",
   "mimetype": "application/julia",
   "name": "julia",
   "version": "1.3.1"
  }
 },
 "nbformat": 4,
 "nbformat_minor": 4
}
