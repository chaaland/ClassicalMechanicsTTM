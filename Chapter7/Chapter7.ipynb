{
 "cells": [
  {
   "cell_type": "code",
   "execution_count": 1,
   "metadata": {},
   "outputs": [],
   "source": [
    "using PyPlot;"
   ]
  },
  {
   "cell_type": "markdown",
   "metadata": {},
   "source": [
    "# Exercise 1"
   ]
  },
  {
   "cell_type": "markdown",
   "metadata": {},
   "source": [
    "Given the Lagrangian \n",
    "$$L=\\frac{1}{2}(\\dot{q}_1^2 + \\dot{q}_2^2) - V(q_1-q_2)$$\n",
    "derive the equations of motion."
   ]
  },
  {
   "cell_type": "markdown",
   "metadata": {},
   "source": [
    "## Solution"
   ]
  },
  {
   "cell_type": "markdown",
   "metadata": {},
   "source": [
    "The partial derivatives are given by \n",
    "$$\n",
    "\\begin{align*}\n",
    "\\frac{\\partial L}{\\partial q_1} &= -V'(q_1-q_2)\\\\\n",
    "\\frac{\\partial L}{\\partial \\dot{q}_1} &= \\dot{q}_1\\\\\n",
    "\\frac{\\partial L}{\\partial q_2} &= V(q_1-q_2)\\\\\n",
    "\\frac{\\partial L}{\\partial \\dot{q}_2} &= \\dot{q}_2\\\\\n",
    "\\end{align*}\n",
    "$$\n",
    "The Euler-Lagrange equations give\n",
    "$$\n",
    "\\begin{align*}\n",
    "\\ddot{q}_1 &= -\\frac{\\partial V}{\\partial q_1}\\\\\n",
    "\\ddot{q}_2 &=  \\frac{\\partial V}{\\partial q_2}\n",
    "\\end{align*}\n",
    "$$"
   ]
  },
  {
   "cell_type": "markdown",
   "metadata": {},
   "source": [
    "# Exercise 2\n",
    "Given the Lagrangian\n",
    "$$L=\\frac{1}{2}(\\dot{q}_1^2 + \\dot{q}_2^2) - V(aq_1-bq_2)$$\n",
    "show that $bp_1+ap_2$ is conserved"
   ]
  },
  {
   "cell_type": "markdown",
   "metadata": {},
   "source": [
    "## Solution"
   ]
  },
  {
   "cell_type": "markdown",
   "metadata": {},
   "source": [
    "The conjugate momenta are \n",
    "$$\n",
    "\\begin{align*}\n",
    "\\frac{\\mathrm{dp_1}}{\\mathrm{d}t} &= \\frac{\\partial L}{\\partial q_1} \\\\\n",
    "&= -aV'(aq_1-bq_2)\\\\\n",
    "\\frac{\\mathrm{dp_2}}{\\mathrm{d}t} &= \\frac{\\partial L}{\\partial q_2} \\\\\n",
    "&= bV'(aq_1-bq_2)\n",
    "\\end{align*}\n",
    "$$\n",
    "\n",
    "Computing $bp_1 +ap_2$ gives \n",
    "\n",
    "$$\n",
    "\\begin{align*}\n",
    "\\frac{\\mathrm{dp_1}}{\\mathrm{d}t}(bp_1 +ap_2) &= -abV'(aq_1-bq_2) + abV'(aq_1-bq_2)\\\\\n",
    "&= 0\n",
    "\\end{align*}\n",
    "$$"
   ]
  },
  {
   "cell_type": "markdown",
   "metadata": {},
   "source": [
    "# Exercise 3\n",
    "Show that the combination $aq_1+bq_2$, along with the Lagrangian from Exercise 2 is invariant under \n",
    "$$\n",
    "q_1 \\rightarrow q_1+b\\delta\\\\\n",
    "q_2 \\rightarrow q_2-a\\delta\n",
    "$$"
   ]
  },
  {
   "cell_type": "markdown",
   "metadata": {},
   "source": [
    "## Solution"
   ]
  },
  {
   "cell_type": "markdown",
   "metadata": {},
   "source": [
    "We first observe that the velocities of the new coordinates are unchanged by the coordinate change. Plugging in the new coordinates to the Lagrangian we have\n",
    "$$\n",
    "\\begin{align*}\n",
    "L &= \\frac{1}{2}(\\dot{q}_1^2+\\dot{q}_2^2) - V\\left(a(q_1 +b\\delta) -b(q_2-a\\delta)\\right)\\\\\n",
    "&= \\frac{1}{2}(\\dot{q}_1^2+\\dot{q}_2^2) - V\\left(aq_1-bq_2 + ab\\delta + ab\\delta\\right)\\\\\n",
    "&= \\frac{1}{2}(\\dot{q}_1^2+\\dot{q}_2^2) - V\\left(aq_1-bq_2\\right)\\\\\n",
    "\\end{align*}\n",
    "$$\n",
    "\n",
    "The Lagrangiang is unchanged by this coordinate transform."
   ]
  },
  {
   "cell_type": "markdown",
   "metadata": {},
   "source": [
    "# Exercise 4"
   ]
  },
  {
   "cell_type": "markdown",
   "metadata": {},
   "source": [
    "Show that the Lagrangian\n",
    "$$L = \\frac{m}{2}(\\dot{x}^2+\\dot{y}^2) - V(x^2+y^2)$$\n",
    "is invariant under infintesimal rotations"
   ]
  },
  {
   "cell_type": "markdown",
   "metadata": {},
   "source": [
    "If the new coordinates $(x',y')$ are rotated counterclockwise through an angle $\\theta$\n",
    "\n",
    "$$\n",
    "\\begin{bmatrix}\n",
    "x'\\\\\n",
    "y'\n",
    "\\end{bmatrix} =\n",
    "\\begin{bmatrix}\n",
    "\\cos \\theta && \\sin \\theta\\\\\n",
    "-\\sin \\theta && \\cos \\theta\\\\\n",
    "\\end{bmatrix}\n",
    "\\begin{bmatrix}\n",
    "x\\\\\n",
    "y\n",
    "\\end{bmatrix}\n",
    "$$"
   ]
  },
  {
   "cell_type": "markdown",
   "metadata": {},
   "source": [
    "The linearisation of this transform for a small rotation $\\mathrm{d}\\theta$ is given by \n",
    "\n",
    "$$\n",
    "\\begin{bmatrix}\n",
    "x'\\\\\n",
    "y'\n",
    "\\end{bmatrix} =\n",
    "\\begin{bmatrix}\n",
    "1 && \\mathrm{d}\\theta\\\\\n",
    "-\\mathrm{d}\\theta && 1\\\\\n",
    "\\end{bmatrix}\n",
    "\\begin{bmatrix}\n",
    "x\\\\\n",
    "y\n",
    "\\end{bmatrix}\n",
    "$$"
   ]
  },
  {
   "cell_type": "markdown",
   "metadata": {},
   "source": [
    "The velocity in the new coordinates (to first order) is\n",
    "\n",
    "$$\n",
    "\\begin{bmatrix}\n",
    "\\dot{x}'\\\\\n",
    "\\dot{y}'\n",
    "\\end{bmatrix} =\n",
    "\\begin{bmatrix}\n",
    "1 && \\mathrm{d}\\theta\\\\\n",
    "-\\mathrm{d}\\theta && 1\\\\\n",
    "\\end{bmatrix}\n",
    "\\begin{bmatrix}\n",
    "\\dot{x}\\\\\n",
    "\\dot{y}\n",
    "\\end{bmatrix}\n",
    "$$"
   ]
  },
  {
   "cell_type": "markdown",
   "metadata": {},
   "source": [
    "Plugging into the Lagrangian we have \n",
    "\n",
    "$$\n",
    "\\begin{align*}\n",
    "L &= \\frac{m}{2}\\left((\\dot{x}')^2+(\\dot{y}')^2\\right) - V\\left((x')^2 + (y')^2\\right)\\\\\n",
    "&= \\frac{m}{2}\\left((\\dot{x} + \\dot{y}d\\theta)^2+(\\dot{y}-\\dot{x}d\\theta)^2\\right) - V\\left((x + yd\\theta)^2 + (y-xd\\theta)^2\\right)\\\\\n",
    "&= \\frac{m}{2}\\left(\\dot{x}^2 + 2\\dot{x}\\dot{y}d\\theta + (\\dot{y}d\\theta)^2 + \\dot{y}^2-2\\dot{y}\\dot{x}d\\theta+(\\dot{x}d\\theta)^2\\right) - V\\left(x^2 + 2xyd\\theta + (yd\\theta)^2 + y^2-2y\\dot{x}d\\theta+(\\dot{x}d\\theta)^2\\right)\\\\\n",
    "&= \\frac{m}{2}\\left(\\dot{x}^2 + \\dot{y}^2\\right) - V\\left(x^2 + y^2\\right)\\\\\n",
    "\\end{align*}\n",
    "$$\n",
    "where the last line uses the fact that $(\\mathrm{d}\\theta)^2 = 0$. This is identical to the original Lagrangian in terms of the original coordinates $(x,y)$"
   ]
  },
  {
   "cell_type": "markdown",
   "metadata": {},
   "source": [
    "# Exercise 5\n",
    "Determine the equation of motion for a simple pendulum of length $\\ell$ swinging through an arc in the $x,y$ plane from an initial angle of $\\theta$"
   ]
  },
  {
   "cell_type": "markdown",
   "metadata": {},
   "source": [
    "## Solution\n",
    "See Chapter 6 exercise 5"
   ]
  },
  {
   "cell_type": "markdown",
   "metadata": {},
   "source": [
    "# Exercise 6"
   ]
  },
  {
   "cell_type": "markdown",
   "metadata": {},
   "source": [
    "Work out the Euler-Lagrange equations for $\\theta$ and $\\alpha$ given the Lagrangian of the double pendulum\n",
    "$$\n",
    "L = \\dot{\\theta}^2+\\frac{1}{2}\\left(\\dot{\\theta}+\\dot{\\alpha}\\right)^2 + \\dot{\\theta}\\left(\\dot{\\theta}+\\dot{\\alpha}\\right)\\cos \\alpha - g\\left(2\\cos \\theta+\\cos(\\theta-\\alpha)\\right)\n",
    "$$"
   ]
  },
  {
   "cell_type": "markdown",
   "metadata": {},
   "source": [
    "## Solution\n",
    "The Lagrangian partial derivatives are\n",
    "\n",
    "$$\n",
    "\\begin{align*}\n",
    "\\frac{\\partial L}{\\partial \\theta} &= 2g\\sin\\theta + g\\sin(\\theta - \\alpha)\\\\\n",
    "\\frac{\\partial L}{\\partial \\dot{\\theta}} &= 2\\dot{\\theta} +(\\dot{\\theta}+\\dot{\\alpha})+ (\\dot{\\theta}+\\dot{\\alpha})\\cos \\alpha + \\dot{\\theta}\\cos \\alpha\\\\\n",
    "&= (3+2\\cos \\alpha)\\dot{\\theta}+(1+\\dot{\\alpha})\\cos \\alpha\\\\\n",
    "\\frac{\\partial L}{\\partial \\alpha} &= -\\dot{\\theta}(\\dot{\\theta}+\\dot{\\alpha})\\sin \\alpha - g\\sin(\\theta - \\alpha)\\\\\n",
    "\\frac{\\partial L}{\\partial \\dot{\\alpha}} &= (\\dot{\\theta}+\\dot{\\alpha})+\\dot{\\theta}\\cos \\alpha\\\\\n",
    "\\end{align*}\n",
    "$$\n"
   ]
  },
  {
   "cell_type": "markdown",
   "metadata": {},
   "source": [
    "By the Euler-Lagrange equations we have\n",
    "$$\n",
    "\\begin{align*}\n",
    "\\frac{\\mathrm{d}}{\\mathrm{d}t} \\frac{\\partial L}{\\partial \\dot{\\theta}} &= \\frac{\\partial L}{\\partial \\theta}\\\\\n",
    "\\frac{\\mathrm{d}}{\\mathrm{d}t} \\frac{\\partial L}{\\partial \\dot{\\alpha}} &= \\frac{\\partial L}{\\partial \\alpha}\\\\\n",
    "\\end{align*}\n",
    "$$"
   ]
  },
  {
   "cell_type": "markdown",
   "metadata": {},
   "source": [
    "Plugging in the partial derivates gives\n",
    "\n",
    "$$\n",
    "\\begin{align*}\n",
    "(3+2\\cos \\alpha)\\ddot{\\theta} - 2\\dot{\\alpha}\\dot{\\theta}\\sin \\alpha +\\ddot{\\alpha}\\cos \\alpha - (1+\\dot{\\alpha})\\dot{\\alpha}\\sin \\alpha &= g(2\\cos \\theta+\\cos(\\theta - \\alpha))\\\\\n",
    "(\\ddot{\\theta}+\\ddot{\\alpha})+ \\ddot{\\theta}\\cos \\alpha - \\dot{\\alpha}\\dot{\\theta}\\sin \\alpha &= -\\dot{\\theta}(\\dot{\\theta}+\\dot{\\alpha})\\sin \\alpha - g\\sin(\\theta - \\alpha)\\\\\n",
    "\\end{align*}\n",
    "$$\n",
    "\n"
   ]
  },
  {
   "cell_type": "markdown",
   "metadata": {},
   "source": [
    "Rearranging and simplifying gives\n",
    "$$\n",
    "\\begin{align*}\n",
    "(3+2\\cos \\alpha)\\ddot{\\theta}  +\\ddot{\\alpha}\\cos \\alpha  &= g(2\\cos \\theta+\\cos(\\theta - \\alpha)) + (1+\\dot{\\alpha}+2\\dot{\\theta})\\dot{\\alpha}\\sin \\alpha\\\\\n",
    "(1+\\cos \\alpha)\\ddot{\\theta} &= -\\dot{\\theta}^2 \\sin \\alpha - g\\sin(\\theta - \\alpha)\\\\\n",
    "\\end{align*}\n",
    "$$"
   ]
  },
  {
   "cell_type": "markdown",
   "metadata": {},
   "source": [
    "# Exercise 7"
   ]
  },
  {
   "cell_type": "markdown",
   "metadata": {},
   "source": [
    "Work out the form of the angular momentum for the double pendulum in Exercise 6, and prove that it is conserved when there is no gravitational field"
   ]
  },
  {
   "cell_type": "markdown",
   "metadata": {},
   "source": [
    "## Solution\n",
    "In the absence of gravity, the $\\theta$ conjugate momentum \n",
    "$$p_\\theta = (3+2\\cos \\alpha)\\dot{\\theta} +(1+\\dot{\\alpha})\\cos \\alpha$$ \n",
    "is conserved since $\\frac{\\partial L}{\\partial \\theta} = \\frac{\\mathrm{d}p_\\theta}{\\mathrm{d}t} = 0$"
   ]
  },
  {
   "cell_type": "code",
   "execution_count": null,
   "metadata": {},
   "outputs": [],
   "source": []
  }
 ],
 "metadata": {
  "kernelspec": {
   "display_name": "Julia 1.3.1",
   "language": "julia",
   "name": "julia-1.3"
  },
  "language_info": {
   "file_extension": ".jl",
   "mimetype": "application/julia",
   "name": "julia",
   "version": "1.3.1"
  }
 },
 "nbformat": 4,
 "nbformat_minor": 4
}
