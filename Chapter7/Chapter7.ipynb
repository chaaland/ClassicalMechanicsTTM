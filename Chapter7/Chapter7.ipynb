{
 "cells": [
  {
   "cell_type": "code",
   "execution_count": 1,
   "metadata": {},
   "outputs": [],
   "source": [
    "using PyPlot;"
   ]
  },
  {
   "cell_type": "markdown",
   "metadata": {},
   "source": [
    "# Exercise 1"
   ]
  },
  {
   "cell_type": "markdown",
   "metadata": {},
   "source": [
    "Give the Lagrangian \n",
    "$$L=\\frac{1}{2}(\\dot{q}_1^2 + \\dot{q}_2^2) - V(q_1-q_2)$$\n",
    "derive the equations of motion."
   ]
  },
  {
   "cell_type": "markdown",
   "metadata": {},
   "source": [
    "## Solution"
   ]
  },
  {
   "cell_type": "markdown",
   "metadata": {},
   "source": [
    "# Exercise 2\n",
    "Given the Lagrangian\n",
    "$$L=\\frac{1}{2}(\\dot{q}_1^2 + \\dot{q}_2^2) - V(aq_1-bq_2)$$\n",
    "show that $bp_1+ap_2$ is conserved"
   ]
  },
  {
   "cell_type": "markdown",
   "metadata": {},
   "source": [
    "# Exercise 3\n",
    "Show that the combination $aq_1+bq_2$, along with the Lagrangian from Exercise 2 is invariant under \n",
    "$$\n",
    "q_1 \\rightarrow q_1+b\\delta\\\\\n",
    "q_2 \\rightarrow q_2-a\\delta\n",
    "$$"
   ]
  },
  {
   "cell_type": "markdown",
   "metadata": {},
   "source": [
    "# Exercise 4"
   ]
  },
  {
   "cell_type": "markdown",
   "metadata": {},
   "source": [
    "Show that the Lagrangian\n",
    "$$L = \\frac{m}{2}(\\dot{x}^2+\\dot{y}^2) - V(x^2+y^2)$$\n",
    "is invariant under infintesimal rotations"
   ]
  },
  {
   "cell_type": "markdown",
   "metadata": {},
   "source": [
    "# Exercise 5\n",
    "Determine the equation of motion for a simple pendulum of length $\\ell$ swinging through an arc in the $x,y$ plane from an initial angle of $\\theta$"
   ]
  },
  {
   "cell_type": "markdown",
   "metadata": {},
   "source": [
    "# Exercise 6"
   ]
  },
  {
   "cell_type": "markdown",
   "metadata": {},
   "source": [
    "Work out the Euler-Lagrange equations for $\\theta$ and $\\alpha$ given the Lagrangian of the double pendulum\n",
    "$$\n",
    "L = \\dot{\\theta}^2+\\frac{1}{2}\\left(\\dot{\\theta}+\\dot{\\alpha}\\right)^2 + \\dot{\\theta}\\left(\\dot{\\theta}+\\dot{\\alpha}\\right)\\cos \\alpha - g\\left(2\\cos \\theta+\\cos(\\theta-\\alpha)\\right)\n",
    "$$"
   ]
  },
  {
   "cell_type": "markdown",
   "metadata": {},
   "source": [
    "# Exercise 7"
   ]
  },
  {
   "cell_type": "markdown",
   "metadata": {},
   "source": [
    "Work out the form of the angular momentum for the double pendulum in Exercise 6, and prove that it is conserved when there is no gravitational field"
   ]
  },
  {
   "cell_type": "code",
   "execution_count": null,
   "metadata": {},
   "outputs": [],
   "source": []
  }
 ],
 "metadata": {
  "kernelspec": {
   "display_name": "Julia 1.3.1",
   "language": "julia",
   "name": "julia-1.3"
  },
  "language_info": {
   "file_extension": ".jl",
   "mimetype": "application/julia",
   "name": "julia",
   "version": "1.3.1"
  }
 },
 "nbformat": 4,
 "nbformat_minor": 4
}
