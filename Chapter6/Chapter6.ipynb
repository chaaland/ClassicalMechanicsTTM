{
 "cells": [
  {
   "cell_type": "markdown",
   "metadata": {},
   "source": [
    "# Exercise 1"
   ]
  },
  {
   "cell_type": "markdown",
   "metadata": {},
   "source": [
    "Show that the equation\n",
    "$$ \\frac{d}{dt} \\frac{\\partial L}{\\partial \\dot{x}} - \\frac{\\partial L}{\\partial x} = 0$$\n",
    "is just another form of Newton's equation of motion $F= ma$"
   ]
  },
  {
   "cell_type": "markdown",
   "metadata": {},
   "source": [
    "## Solution"
   ]
  },
  {
   "cell_type": "markdown",
   "metadata": {},
   "source": [
    "The Lagrangian is given by \n",
    "$$L = \\frac{1}{2}m\\dot{x}^2 - V(x)$$\n",
    "so plugging directly into the Euler-Lagrange equation we have\n",
    "\n",
    "$$\n",
    "\\begin{align*}\n",
    "\\frac{d}{dt} \\frac{\\partial }{\\partial \\dot{x}}\\left(\\frac{1}{2}m\\dot{x}^2 - V(x)\\right) - \\frac{\\partial }{\\partial x}\\left(\\frac{1}{2}m\\dot{x}^2 - V(x)\\right) &= 0\\\\\n",
    "\\frac{d}{dt}\\left(m\\dot{x}\\right) + \\frac{\\partial V}{\\partial x} &= 0\\\\\n",
    "\\frac{\\partial V}{\\partial x} &= -m\\ddot{x}\\\\\n",
    "-F &= -m\\ddot{x}\\\\\n",
    "F &= ma\n",
    "\\end{align*}\n",
    "$$"
   ]
  },
  {
   "cell_type": "code",
   "execution_count": null,
   "metadata": {},
   "outputs": [],
   "source": [
    "}"
   ]
  }
 ],
 "metadata": {
  "kernelspec": {
   "display_name": "Julia 1.3.1",
   "language": "julia",
   "name": "julia-1.3"
  },
  "language_info": {
   "file_extension": ".jl",
   "mimetype": "application/julia",
   "name": "julia",
   "version": "1.3.1"
  }
 },
 "nbformat": 4,
 "nbformat_minor": 4
}
