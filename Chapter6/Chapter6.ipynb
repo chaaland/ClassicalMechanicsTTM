{
 "cells": [
  {
   "cell_type": "markdown",
   "metadata": {},
   "source": [
    "# Exercise 1"
   ]
  },
  {
   "cell_type": "markdown",
   "metadata": {},
   "source": [
    "Show that the equation\n",
    "$$ \\frac{d}{dt} \\frac{\\partial L}{\\partial \\dot{x}} - \\frac{\\partial L}{\\partial x} = 0$$\n",
    "is just another form of Newton's equation of motion $F= ma$"
   ]
  },
  {
   "cell_type": "markdown",
   "metadata": {},
   "source": [
    "## Solution"
   ]
  },
  {
   "cell_type": "markdown",
   "metadata": {},
   "source": [
    "The Lagrangian is given by \n",
    "$$L = \\frac{1}{2}m\\dot{x}^2 - V(x)$$\n",
    "so plugging directly into the Euler-Lagrange equation we have\n",
    "\n",
    "$$\n",
    "\\begin{align*}\n",
    "\\frac{d}{dt} \\frac{\\partial }{\\partial \\dot{x}}\\left(\\frac{1}{2}m\\dot{x}^2 - V(x)\\right) - \\frac{\\partial }{\\partial x}\\left(\\frac{1}{2}m\\dot{x}^2 - V(x)\\right) &= 0\\\\\n",
    "\\frac{d}{dt}\\left(m\\dot{x}\\right) + \\frac{\\partial V}{\\partial x} &= 0\\\\\n",
    "\\frac{\\partial V}{\\partial x} &= -m\\ddot{x}\\\\\n",
    "-F &= -m\\ddot{x}\\\\\n",
    "F &= ma\n",
    "\\end{align*}\n",
    "$$"
   ]
  },
  {
   "cell_type": "markdown",
   "metadata": {},
   "source": [
    "# Exercise 3"
   ]
  },
  {
   "cell_type": "markdown",
   "metadata": {},
   "source": [
    "Use the Euler-Lagrange equations to derive the equations of motion from the Lagrangian\n",
    "\n",
    "$$L = \\frac{m}{2}(\\dot{X}^2+\\dot{Y}^2) + \\frac{m\\omega^2}{2}(X^2 + Y^2) + m\\omega(\\dot{X}Y - \\dot{Y}X)$$"
   ]
  },
  {
   "cell_type": "markdown",
   "metadata": {},
   "source": [
    "## Solution"
   ]
  },
  {
   "cell_type": "markdown",
   "metadata": {},
   "source": [
    "Start with partial derivatives of the Lagrangian wrt velocity and position\n",
    "$$\n",
    "\\begin{align*}\n",
    "\\frac{\\partial L}{\\partial X} &= m\\omega^2 X - m\\omega \\dot{Y}\\\\\n",
    "\\frac{\\partial L}{\\partial Y} &= m\\omega^2 Y + m\\omega \\dot{X}\\\\\n",
    "\\frac{\\partial L}{\\partial \\dot{X}} &= m \\dot{X} + m\\omega Y\\\\\n",
    "\\frac{\\partial L}{\\partial \\dot{Y}} &= m \\dot{Y} - m\\omega X\\\\\n",
    "\\end{align*}\n",
    "$$"
   ]
  },
  {
   "cell_type": "markdown",
   "metadata": {},
   "source": [
    "Taking the time derivative of the partial derivatives wrt velocity and setting them equal to the partial derivative of the corresponding position coordiate we have\n",
    "$$\n",
    "\\begin{align*}\n",
    "m\\ddot{X} + m\\omega \\dot{Y} &= m\\omega^2 X - m\\omega \\dot{Y}\\\\\n",
    "m\\ddot{Y} - m\\omega\\dot{X} &= m\\omega^2Y + m\\omega \\dot{X}\\\\\n",
    "\\end{align*}\n",
    "$$\n",
    "\n",
    "Simplifying, this leads to the equations of motion\n",
    "\n",
    "$$\n",
    "\\begin{align*}\n",
    "\\ddot{X} &= \\omega^2 X - 2\\omega \\dot{Y}\\\\\n",
    "\\ddot{Y} &= \\omega^2Y + 2\\omega \\dot{X}\\\\\n",
    "\\end{align*}\n",
    "$$\n"
   ]
  },
  {
   "cell_type": "markdown",
   "metadata": {},
   "source": [
    "We can rewrite this differential equation as\n",
    "\n",
    "$$\\frac{d}{dt}\n",
    "\\begin{bmatrix}\n",
    "X\\\\\n",
    "\\dot{X}\\\\\n",
    "Y\\\\\n",
    "\\dot{Y}\n",
    "\\end{bmatrix} = \n",
    "\\begin{bmatrix}\n",
    "0 & 1 & 0 & 0\\\\\n",
    "\\omega^2 & 0 & 0 & -2\\omega\\\\\n",
    "0 & 0 & 0 & 1\\\\\n",
    "2\\omega & 0 & \\omega^2 & 0\\\\\n",
    "\\end{bmatrix}\n",
    "\\begin{bmatrix}\n",
    "X\\\\\n",
    "\\dot{X}\\\\\n",
    "Y\\\\\n",
    "\\dot{Y}\n",
    "\\end{bmatrix}\n",
    "$$"
   ]
  },
  {
   "cell_type": "markdown",
   "metadata": {},
   "source": [
    "This is just a set of linear differential equations $\\dot{z}(t) = A z(t)$. The solution is given by the matrix exponential\n",
    "$$z(t) = \\exp(tA)z(0)$$"
   ]
  },
  {
   "cell_type": "code",
   "execution_count": 37,
   "metadata": {},
   "outputs": [],
   "source": [
    "using PyPlot;\n",
    "using Colors;"
   ]
  },
  {
   "cell_type": "code",
   "execution_count": 46,
   "metadata": {},
   "outputs": [],
   "source": [
    "omega = 1\n",
    "\n",
    "A = [0 1 0 0; omega^2 0 0 -2*omega; 0 0 0 1; 2*omega 0 omega^2 0]\n",
    "z1_t = [1; 0; 0; 1]\n",
    "z2_t = [1; -1; 0; 1]\n",
    "z3_t = [0; 1; 1; 0]\n",
    "\n",
    "\n",
    "n_timesteps = 100\n",
    "t_vals = LinRange(0, 5, n_timesteps)\n",
    "dt = t_vals[2] - t_vals[1]\n",
    "B = exp(A * dt)\n",
    "\n",
    "Z1 = zeros(n_timesteps, 2)\n",
    "Z2 = zeros(n_timesteps, 2)\n",
    "Z3 = zeros(n_timesteps, 2)\n",
    "\n",
    "i = 1\n",
    "for t=t_vals\n",
    "    z1_t = B * z1_t\n",
    "    Z1[i, 1] = z1_t[1]\n",
    "    Z1[i, 2] = z1_t[3]\n",
    "    \n",
    "    z2_t = B * z2_t\n",
    "    Z2[i, 1] = z2_t[1]\n",
    "    Z2[i, 2] = z2_t[3]\n",
    "    \n",
    "    z3_t = B * z3_t\n",
    "    Z3[i, 1] = z3_t[1]\n",
    "    Z3[i, 2] = z3_t[3]\n",
    "    i += 1\n",
    "end"
   ]
  },
  {
   "cell_type": "code",
   "execution_count": 47,
   "metadata": {},
   "outputs": [
    {
     "data": {
      "text/plain": [
       "plot_smooth_colors (generic function with 1 method)"
      ]
     },
     "execution_count": 47,
     "metadata": {},
     "output_type": "execute_result"
    }
   ],
   "source": [
    "function plot_smooth_colors(x, y, cmap)\n",
    "    palette = colormap(cmap, 100)\n",
    "    for i in range(1,stop=99)\n",
    "        color = palette[i]\n",
    "        plot(x[i:i+1], y[i:i+1], color=(red(color), green(color), blue(color)));\n",
    "    end\n",
    "end"
   ]
  },
  {
   "cell_type": "code",
   "execution_count": 48,
   "metadata": {},
   "outputs": [
    {
     "data": {
      "image/png": "[encoded data removed]",
      "text/plain": [
       "Figure(PyObject <Figure size 600x600 with 1 Axes>)"
      ]
     },
     "metadata": {},
     "output_type": "display_data"
    },
    {
     "data": {
      "text/plain": [
       "PyObject Text(24.0, 0.5, 'y')"
      ]
     },
     "execution_count": 48,
     "metadata": {},
     "output_type": "execute_result"
    }
   ],
   "source": [
    "figure(figsize=(6,6))\n",
    "plot_smooth_colors(Z1[:, 1], Z1[:,2], \"Blues\")\n",
    "plot_smooth_colors(Z2[:, 1], Z2[:,2], \"Greens\")\n",
    "plot_smooth_colors(Z3[:, 1], Z3[:,2], \"Purples\")\n",
    "\n",
    "title(\"Trajectory\")\n",
    "xlabel(\"x\")\n",
    "ylabel(\"y\")"
   ]
  },
  {
   "cell_type": "code",
   "execution_count": null,
   "metadata": {},
   "outputs": [],
   "source": []
  }
 ],
 "metadata": {
  "kernelspec": {
   "display_name": "Julia 1.3.1",
   "language": "julia",
   "name": "julia-1.3"
  },
  "language_info": {
   "file_extension": ".jl",
   "mimetype": "application/julia",
   "name": "julia",
   "version": "1.3.1"
  }
 },
 "nbformat": 4,
 "nbformat_minor": 4
}
