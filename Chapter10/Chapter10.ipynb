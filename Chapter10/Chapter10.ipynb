{
 "cells": [
  {
   "cell_type": "code",
   "execution_count": 1,
   "metadata": {},
   "outputs": [],
   "source": [
    "using PyPlot;"
   ]
  },
  {
   "cell_type": "markdown",
   "metadata": {},
   "source": [
    "# Exercise 1\n",
    "Prove $\\{F(q,p),p_i\\} = \\frac{\\partial F(q,p)}{\\partial q_i}$"
   ]
  },
  {
   "cell_type": "markdown",
   "metadata": {},
   "source": [
    "## Solution\n",
    "\n",
    "Proceeding directly from the definition of the Poisson Bracket,\n",
    "$$\n",
    "\\begin{align*}\n",
    "\\{F(q,p),p_i\\} &= \\sum_{k=1}^N \\frac{\\partial F(q,p)}{\\partial q_k}\\frac{\\partial p_i}{\\partial p_k} - \\frac{\\partial F(q,p)}{\\partial p_k}\\frac{\\partial p_i}{\\partial q_k}\\\\\n",
    "&= \\sum_{k=1}^N \\frac{\\partial F(q,p)}{\\partial q_k}\\delta_{ik}-0\\\\\n",
    " &= \\frac{\\partial F(q,p)}{\\partial q_i}\\\\\n",
    "\\end{align*}\n",
    "$$"
   ]
  },
  {
   "cell_type": "markdown",
   "metadata": {},
   "source": [
    "# Exercise 2"
   ]
  },
  {
   "cell_type": "markdown",
   "metadata": {},
   "source": [
    "Hamilton's equations can be written in the form $\\dot{q} = \\{q,H\\}$ and $\\dot{p} = \\{p,H\\}$. Assume that the Hamiltonian has the form $H=\\frac{1}{2m}p^2+V(q)$. Using only the PB axioms, prove Newton's equations of motion"
   ]
  },
  {
   "cell_type": "markdown",
   "metadata": {},
   "source": [
    "## Solution\n",
    "From the definition of the Poisson Bracket\n",
    "$$\n",
    "\\begin{align*}\n",
    "\\dot{q} &= \\frac{\\partial q}{\\partial q}\\frac{\\partial H}{\\partial p} - \\frac{\\partial H}{\\partial q}\\frac{\\partial q}{\\partial p}\\\\\n",
    "&= p/m - V'(q)\\cdot 0\\\\\n",
    "&= p/m\\\\\n",
    "\\dot{p} &= \\frac{\\partial p}{\\partial q}\\frac{\\partial H}{\\partial p} - \\frac{\\partial H}{\\partial q}\\frac{\\partial p}{\\partial p}\\\\\n",
    "&= 0\\cdot\\frac{p}{m} - V'(q)\\frac{\\partial p}{\\partial p}\\\\\n",
    "&= -V'(q)\\\\\n",
    "\\end{align*}\n",
    "$$\n",
    "\n",
    "Taking the time derivative of the first equation gives $m\\ddot{q} = \\dot{p}$. Plugging the second equation gives $m\\ddot{q}= -V(q) = F$ which is Newton's law"
   ]
  },
  {
   "cell_type": "markdown",
   "metadata": {},
   "source": [
    "# Exercise 3"
   ]
  },
  {
   "cell_type": "markdown",
   "metadata": {},
   "source": [
    "Using both the definition of PB's and the axioms, work out the PB's in Equations\n",
    "$$\n",
    "\\begin{align*}\n",
    "\\{x,L_z\\} &= \\{x, (xp_y - yp_x)\\}\\\\\n",
    "\\{y,L_z\\} &= \\{y, (xp_y - yp_x)\\}\\\\\n",
    "\\{z,L_z\\} &= \\{z, (xp_y - yp_x)\\}\\\\\n",
    "\\end{align*}\n",
    "$$\n",
    "_Hint: In each expression, look for things in the parentheses that have nonzero Poisson Brackets with the coordinate $x$, $y$, or $z$. For example, in the first PB, $x$ has a nonzero PB with $p_x$_."
   ]
  },
  {
   "cell_type": "markdown",
   "metadata": {},
   "source": [
    "## Solution\n",
    "\n",
    "$$\n",
    "\\begin{align*}\n",
    "\\{x,L_z\\} &= \\{x, (xp_y - yp_x)\\}\\\\\n",
    "&= \\frac{\\partial x}{\\partial x}\\frac{\\partial (xp_y - yp_x)}{\\partial p_x} - \\frac{\\partial x}{\\partial p_x}\\frac{\\partial (xp_y - yp_x)}{\\partial x}\\\\\n",
    "&= -y - 0\\cdot p_y\\\\\n",
    "&= -y\n",
    "\\end{align*}\n",
    "$$\n",
    "\n",
    "$$\n",
    "\\begin{align*}\n",
    "\\{y,L_z\\} &= \\{y, (xp_y - yp_x)\\}\\\\\n",
    "&= \\frac{\\partial y}{\\partial y}\\frac{\\partial (xp_y - yp_x)}{\\partial p_y} - \\frac{\\partial y}{\\partial p_y}\\frac{\\partial (xp_y - yp_x)}{\\partial y}\\\\\n",
    "&= x - 0\\cdot (-p_x)\\\\\n",
    "&= x\\\\\n",
    "\\{z, L_z\\} &= \\{z, (xp_y - yp_x)\\}\\\\\n",
    "&= 0\n",
    "\\end{align*}\n",
    "$$\n"
   ]
  },
  {
   "cell_type": "code",
   "execution_count": null,
   "metadata": {},
   "outputs": [],
   "source": []
  }
 ],
 "metadata": {
  "kernelspec": {
   "display_name": "Julia 1.3.1",
   "language": "julia",
   "name": "julia-1.3"
  },
  "language_info": {
   "file_extension": ".jl",
   "mimetype": "application/julia",
   "name": "julia",
   "version": "1.3.1"
  }
 },
 "nbformat": 4,
 "nbformat_minor": 4
}
