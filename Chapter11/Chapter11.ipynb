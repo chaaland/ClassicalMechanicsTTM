{
 "cells": [
  {
   "cell_type": "markdown",
   "metadata": {},
   "source": [
    "# Exercise 1\n",
    "Confirm $\\left(V\\times A\\right)_i = \\sum_k\\sum_j \\epsilon_{ijk}V_jA_k$. Also prove that $V_iA_j - V_jA_i = \\sum_k \\epsilon_{ijk}(V\\times A)_i$"
   ]
  },
  {
   "cell_type": "markdown",
   "metadata": {},
   "source": [
    "## Solution\n",
    "\n",
    "From the definiton of cross product\n",
    "$$\n",
    "\\begin{align*}\n",
    "V \\times A &= (V_yA_z - V_zA_y)\\hat{i} + (V_zA_x - V_xA_z)\\hat{j}+(V_xA_y - V_yA_x)\\hat{k}\\\\\n",
    "&= (\\epsilon_{xyz}V_yA_z + \\epsilon_{xzy}V_zA_y)\\hat{i} + (\\epsilon_{yzx}V_zA_x + \\epsilon_{yxz}V_xA_z)\\hat{j}+(\\epsilon_{zxy}V_xA_y + \\epsilon_{zyx}V_yA_x)\\hat{k}\\\\\n",
    "\\end{align*}\n",
    "$$\n",
    "\n"
   ]
  },
  {
   "cell_type": "markdown",
   "metadata": {},
   "source": [
    "# Exercise 2\n",
    "Prove $\\nabla \\times (\\nabla V) = 0$"
   ]
  },
  {
   "cell_type": "markdown",
   "metadata": {},
   "source": [
    "## Solution\n",
    "\n",
    "$\\nabla V$ is given by $\\frac{\\partial V}{\\partial x}\\hat{i}+\\frac{\\partial V}{\\partial y}\\hat{j}+\\frac{\\partial V}{\\partial z}\\hat{k}$. \n",
    "\n",
    "The components of the curl is\n",
    "\n",
    "$$\n",
    "\\begin{align*}\n",
    "\\mathbf{curl}(\\nabla V)_x &= \\frac{\\partial }{\\partial y}\\frac{\\partial V}{\\partial z} - \\frac{\\partial }{\\partial z}\\frac{\\partial V}{\\partial y}\\\\\n",
    "&= 0\\\\\n",
    "\\mathbf{curl}(\\nabla V)_y &= \\frac{\\partial }{\\partial z}\\frac{\\partial V}{\\partial x} - \\frac{\\partial }{\\partial x}\\frac{\\partial V}{\\partial z}\\\\\n",
    "&= 0\\\\\n",
    "\\mathbf{curl}(\\nabla V)_z &= \\frac{\\partial }{\\partial x}\\frac{\\partial V}{\\partial y} - \\frac{\\partial }{\\partial y}\\frac{\\partial V}{\\partial x}\\\\\n",
    "&= 0\\\\\n",
    "\\end{align*}\n",
    "$$"
   ]
  },
  {
   "cell_type": "markdown",
   "metadata": {},
   "source": [
    "# Exercise 3\n",
    "Show that the vector potentials $A = (0,bx,0)$ and $A'=(-by,0,0)$ both give the same uniform magnetic field. This means that the two differ by a gradient. Find the scalar whose gradient, when added to $A$, gives $A'$"
   ]
  },
  {
   "cell_type": "markdown",
   "metadata": {},
   "source": [
    "## Solution\n",
    "\n",
    "The magnetic field is given by the curl of the vector potential $A$.\n",
    "$$\n",
    "\\begin{align*}\n",
    "\\mathbf{curl}(A) &= \\left(\\frac{\\partial (0)}{\\partial y} - \\frac{\\partial (bx)}{\\partial z} \\right)\\hat{i} +\\left(\\frac{\\partial (0)}{\\partial z} - \\frac{\\partial (0)}{\\partial x} \\right)\\hat{j}+\\left(\\frac{\\partial (bx)}{\\partial x} - \\frac{\\partial (0)}{\\partial y} \\right)\\hat{k}\\\\\n",
    "&= b\\hat{k}\\\\\n",
    "\\mathbf{curl}(\\hat{A}) &= \\left(\\frac{\\partial (0)}{\\partial y} - \\frac{\\partial (0)}{\\partial z} \\right)\\hat{i} +\\left(\\frac{\\partial (-by)}{\\partial z} - \\frac{\\partial (0)}{\\partial x} \\right)\\hat{j}+\\left(\\frac{\\partial (0)}{\\partial x} - \\frac{\\partial (-by)}{\\partial y} \\right)\\hat{k}\\\\\n",
    "&= b\\hat{k}\\\\\n",
    "\\end{align*}\n",
    "$$\n",
    "\n",
    "The curls of $A$ and $\\hat{A}$ are identical"
   ]
  },
  {
   "cell_type": "markdown",
   "metadata": {},
   "source": [
    "# Exercise 4\n",
    "Using the Hamiltonian,\n",
    "$$H = \\sum_i \\left\\{\\frac{1}{2m}\\left[p_i-\\frac{e}{c}A_i(x)\\right]\\left[p_i-\\frac{e}{c}A_i(x)\\right]\\right\\}$$\n",
    "work out Hamilton's equations of motion and show that you get the Newton-Lorentz equation of motion."
   ]
  },
  {
   "cell_type": "markdown",
   "metadata": {},
   "source": [
    "# Exercise 5\n",
    "\n",
    "Show that in the $x$,$y$ plane, the solution to $a_y=-\\frac{eb}{mc}v_x$ and the solution to $a_x = \\frac{eb}{mc}v_y$ are a circular orbit with the center of the orbit being anywhere on the plane. Find the radius of the orbit in terms of the velocity."
   ]
  },
  {
   "cell_type": "code",
   "execution_count": null,
   "metadata": {},
   "outputs": [],
   "source": []
  }
 ],
 "metadata": {
  "kernelspec": {
   "display_name": "Julia 1.3.1",
   "language": "julia",
   "name": "julia-1.3"
  },
  "language_info": {
   "file_extension": ".jl",
   "mimetype": "application/julia",
   "name": "julia",
   "version": "1.3.1"
  }
 },
 "nbformat": 4,
 "nbformat_minor": 4
}
